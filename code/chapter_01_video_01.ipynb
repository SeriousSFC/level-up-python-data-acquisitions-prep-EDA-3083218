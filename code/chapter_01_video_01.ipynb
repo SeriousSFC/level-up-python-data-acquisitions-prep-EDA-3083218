{
 "cells": [
  {
   "cell_type": "code",
   "execution_count": 103,
   "metadata": {},
   "outputs": [],
   "source": [
    "import pandas as pd\n",
    "import numpy as np"
   ]
  },
  {
   "cell_type": "code",
   "execution_count": 126,
   "metadata": {},
   "outputs": [],
   "source": [
    "link = \"https://3083218.youcanlearnit.net/geographytables.html\"\n",
    "\n",
    "area_data2 = pd.read_html(link)  # , match=\"Area\" # choose tables with Area in column\n",
    "area_data = area_data2.copy()\n",
    "\n",
    "#area_data = area_data.pop()\n"
   ]
  },
  {
   "cell_type": "code",
   "execution_count": 127,
   "metadata": {},
   "outputs": [
    {
     "data": {
      "text/plain": [
       "[   Rank       State  Rainfall in inches\n",
       " 0     1      Nevada                  10\n",
       " 1     2     Arizona                  12\n",
       " 2     3     Wyoming                  56\n",
       " 3     4  New Mexico                  55\n",
       " 4     5     Montana                  52\n",
       " 5     6        Utah                  56,\n",
       "    Rank        State  Rainfall in inches\n",
       " 0     1    Louisiana                  59\n",
       " 1     2  Mississippi                  56\n",
       " 2     3      Alabama                  56\n",
       " 3     4      Florida                  55\n",
       " 4     5    Tennessee                  52\n",
       " 5     6       Hawaii                  56]"
      ]
     },
     "execution_count": 127,
     "metadata": {},
     "output_type": "execute_result"
    }
   ],
   "source": [
    "area_data2"
   ]
  },
  {
   "cell_type": "code",
   "execution_count": 7,
   "metadata": {},
   "outputs": [
    {
     "name": "stdout",
     "output_type": "stream",
     "text": [
      "<class 'list'>\n"
     ]
    }
   ],
   "source": [
    "print(type(area_data))"
   ]
  },
  {
   "cell_type": "code",
   "execution_count": 10,
   "metadata": {},
   "outputs": [
    {
     "data": {
      "text/plain": [
       "pandas.core.frame.DataFrame"
      ]
     },
     "execution_count": 10,
     "metadata": {},
     "output_type": "execute_result"
    }
   ],
   "source": [
    "type(area_data.pop())\n"
   ]
  },
  {
   "cell_type": "code",
   "execution_count": 117,
   "metadata": {},
   "outputs": [],
   "source": [
    "def combine_tables_to_df(area_data2):\n",
    "  area_data = area_data2.copy()\n",
    "\n",
    "  df = pd.DataFrame()\n",
    "  df = pd.concat([df, area_data.pop()])\n",
    "\n",
    "  for i in range(0, 2):\n",
    "    df = df.merge(area_data.pop(), on=\"State\", how=\"outer\")\n",
    "#    df = pd.concat([df, area_data.pop()])\n",
    "  \n",
    "  df['Rainfall in inches'] = (df[['Rainfall in inches_x',\n",
    "                                    'Rainfall in inches_y']]\n",
    "                                .apply(np.max, axis=1)\n",
    "#                                .fillna(0)\n",
    "                              )\n",
    "\n",
    "  df.drop(columns=['Rank', 'Rank_x', 'Rank_y',\n",
    "          'Rainfall in inches_x', 'Rainfall in inches_x'], inplace=True)\n",
    "  return df"
   ]
  },
  {
   "cell_type": "code",
   "execution_count": 119,
   "metadata": {},
   "outputs": [
    {
     "data": {
      "text/html": [
       "<div>\n",
       "<style scoped>\n",
       "    .dataframe tbody tr th:only-of-type {\n",
       "        vertical-align: middle;\n",
       "    }\n",
       "\n",
       "    .dataframe tbody tr th {\n",
       "        vertical-align: top;\n",
       "    }\n",
       "\n",
       "    .dataframe thead th {\n",
       "        text-align: right;\n",
       "    }\n",
       "</style>\n",
       "<table border=\"1\" class=\"dataframe\">\n",
       "  <thead>\n",
       "    <tr style=\"text-align: right;\">\n",
       "      <th></th>\n",
       "      <th>State</th>\n",
       "      <th>Total Area in Sq Mi</th>\n",
       "      <th>Rainfall in inches_y</th>\n",
       "      <th>Rainfall in inches</th>\n",
       "    </tr>\n",
       "  </thead>\n",
       "  <tbody>\n",
       "    <tr>\n",
       "      <th>0</th>\n",
       "      <td>Alaska</td>\n",
       "      <td>665000.0</td>\n",
       "      <td>NaN</td>\n",
       "      <td>NaN</td>\n",
       "    </tr>\n",
       "    <tr>\n",
       "      <th>1</th>\n",
       "      <td>Texas</td>\n",
       "      <td>268000.0</td>\n",
       "      <td>NaN</td>\n",
       "      <td>NaN</td>\n",
       "    </tr>\n",
       "    <tr>\n",
       "      <th>2</th>\n",
       "      <td>California</td>\n",
       "      <td>163000.0</td>\n",
       "      <td>NaN</td>\n",
       "      <td>NaN</td>\n",
       "    </tr>\n",
       "    <tr>\n",
       "      <th>3</th>\n",
       "      <td>Montana</td>\n",
       "      <td>147000.0</td>\n",
       "      <td>52.0</td>\n",
       "      <td>52.0</td>\n",
       "    </tr>\n",
       "    <tr>\n",
       "      <th>4</th>\n",
       "      <td>New Mexico</td>\n",
       "      <td>121000.0</td>\n",
       "      <td>55.0</td>\n",
       "      <td>55.0</td>\n",
       "    </tr>\n",
       "    <tr>\n",
       "      <th>5</th>\n",
       "      <td>Arizona</td>\n",
       "      <td>113000.0</td>\n",
       "      <td>12.0</td>\n",
       "      <td>12.0</td>\n",
       "    </tr>\n",
       "    <tr>\n",
       "      <th>6</th>\n",
       "      <td>Louisiana</td>\n",
       "      <td>NaN</td>\n",
       "      <td>NaN</td>\n",
       "      <td>59.0</td>\n",
       "    </tr>\n",
       "    <tr>\n",
       "      <th>7</th>\n",
       "      <td>Mississippi</td>\n",
       "      <td>NaN</td>\n",
       "      <td>NaN</td>\n",
       "      <td>56.0</td>\n",
       "    </tr>\n",
       "    <tr>\n",
       "      <th>8</th>\n",
       "      <td>Alabama</td>\n",
       "      <td>NaN</td>\n",
       "      <td>NaN</td>\n",
       "      <td>56.0</td>\n",
       "    </tr>\n",
       "    <tr>\n",
       "      <th>9</th>\n",
       "      <td>Florida</td>\n",
       "      <td>NaN</td>\n",
       "      <td>NaN</td>\n",
       "      <td>55.0</td>\n",
       "    </tr>\n",
       "    <tr>\n",
       "      <th>10</th>\n",
       "      <td>Tennessee</td>\n",
       "      <td>NaN</td>\n",
       "      <td>NaN</td>\n",
       "      <td>52.0</td>\n",
       "    </tr>\n",
       "    <tr>\n",
       "      <th>11</th>\n",
       "      <td>Hawaii</td>\n",
       "      <td>NaN</td>\n",
       "      <td>NaN</td>\n",
       "      <td>56.0</td>\n",
       "    </tr>\n",
       "    <tr>\n",
       "      <th>12</th>\n",
       "      <td>Nevada</td>\n",
       "      <td>NaN</td>\n",
       "      <td>10.0</td>\n",
       "      <td>10.0</td>\n",
       "    </tr>\n",
       "    <tr>\n",
       "      <th>13</th>\n",
       "      <td>Wyoming</td>\n",
       "      <td>NaN</td>\n",
       "      <td>56.0</td>\n",
       "      <td>56.0</td>\n",
       "    </tr>\n",
       "    <tr>\n",
       "      <th>14</th>\n",
       "      <td>Utah</td>\n",
       "      <td>NaN</td>\n",
       "      <td>56.0</td>\n",
       "      <td>56.0</td>\n",
       "    </tr>\n",
       "  </tbody>\n",
       "</table>\n",
       "</div>"
      ],
      "text/plain": [
       "          State  Total Area in Sq Mi  Rainfall in inches_y  Rainfall in inches\n",
       "0        Alaska             665000.0                   NaN                 NaN\n",
       "1         Texas             268000.0                   NaN                 NaN\n",
       "2    California             163000.0                   NaN                 NaN\n",
       "3       Montana             147000.0                  52.0                52.0\n",
       "4    New Mexico             121000.0                  55.0                55.0\n",
       "5       Arizona             113000.0                  12.0                12.0\n",
       "6     Louisiana                  NaN                   NaN                59.0\n",
       "7   Mississippi                  NaN                   NaN                56.0\n",
       "8       Alabama                  NaN                   NaN                56.0\n",
       "9       Florida                  NaN                   NaN                55.0\n",
       "10    Tennessee                  NaN                   NaN                52.0\n",
       "11       Hawaii                  NaN                   NaN                56.0\n",
       "12       Nevada                  NaN                  10.0                10.0\n",
       "13      Wyoming                  NaN                  56.0                56.0\n",
       "14         Utah                  NaN                  56.0                56.0"
      ]
     },
     "execution_count": 119,
     "metadata": {},
     "output_type": "execute_result"
    }
   ],
   "source": [
    "df = combine_tables_to_df(area_data2)\n",
    "#df.fillna(0)\n",
    "df"
   ]
  },
  {
   "cell_type": "code",
   "execution_count": null,
   "metadata": {},
   "outputs": [],
   "source": []
  }
 ],
 "metadata": {
  "kernelspec": {
   "display_name": "Python 3",
   "language": "python",
   "name": "python3"
  },
  "language_info": {
   "codemirror_mode": {
    "name": "ipython",
    "version": 3
   },
   "file_extension": ".py",
   "mimetype": "text/x-python",
   "name": "python",
   "nbconvert_exporter": "python",
   "pygments_lexer": "ipython3",
   "version": "3.9.10"
  },
  "orig_nbformat": 4,
  "vscode": {
   "interpreter": {
    "hash": "fabf8cb1747e8612c05a5b4859093013aad21881b121c8a0f9ff626d74cb5b1d"
   }
  }
 },
 "nbformat": 4,
 "nbformat_minor": 2
}
